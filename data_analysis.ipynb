{
 "cells": [
  {
   "cell_type": "markdown",
   "metadata": {},
   "source": [
    "## This is `Part 1` of the Analysis"
   ]
  },
  {
   "cell_type": "code",
   "execution_count": 1,
   "metadata": {},
   "outputs": [
    {
     "data": {
      "text/html": [
       "<pre style=\"white-space:pre;overflow-x:auto;line-height:normal;font-family:Menlo,'DejaVu Sans Mono',consolas,'Courier New',monospace\">╭──────────────────────────────────────────────── skimpy summary ─────────────────────────────────────────────────╮\n",
       "│ <span style=\"font-style: italic\">         Data Summary         </span> <span style=\"font-style: italic\">      Data Types       </span>                                                          │\n",
       "│ ┏━━━━━━━━━━━━━━━━━━━┳━━━━━━━━┓ ┏━━━━━━━━━━━━━┳━━━━━━━┓                                                          │\n",
       "│ ┃<span style=\"color: #008080; text-decoration-color: #008080; font-weight: bold\"> dataframe         </span>┃<span style=\"color: #008080; text-decoration-color: #008080; font-weight: bold\"> Values </span>┃ ┃<span style=\"color: #008080; text-decoration-color: #008080; font-weight: bold\"> Column Type </span>┃<span style=\"color: #008080; text-decoration-color: #008080; font-weight: bold\"> Count </span>┃                                                          │\n",
       "│ ┡━━━━━━━━━━━━━━━━━━━╇━━━━━━━━┩ ┡━━━━━━━━━━━━━╇━━━━━━━┩                                                          │\n",
       "│ │ Number of rows    │ 8693   │ │ float64     │ 6     │                                                          │\n",
       "│ │ Number of columns │ 14     │ │ string      │ 5     │                                                          │\n",
       "│ └───────────────────┴────────┘ │ bool        │ 3     │                                                          │\n",
       "│                                └─────────────┴───────┘                                                          │\n",
       "│ <span style=\"font-style: italic\">                                                    number                                                    </span>  │\n",
       "│ ┏━━━━━━━━━━━━━━━━━━━━━┳━━━━━━━━┳━━━━━━━━━┳━━━━━━━━━┳━━━━━━━━━┳━━━━━━┳━━━━━━━━┳━━━━━━━━┳━━━━━━━━━━┳━━━━━━━━━━━┓  │\n",
       "│ ┃<span style=\"font-weight: bold\"> column_name         </span>┃<span style=\"font-weight: bold\"> NA     </span>┃<span style=\"font-weight: bold\"> NA %    </span>┃<span style=\"font-weight: bold\"> mean    </span>┃<span style=\"font-weight: bold\"> sd      </span>┃<span style=\"font-weight: bold\"> p0   </span>┃<span style=\"font-weight: bold\"> p25    </span>┃<span style=\"font-weight: bold\"> p75    </span>┃<span style=\"font-weight: bold\"> p100     </span>┃<span style=\"font-weight: bold\"> hist      </span>┃  │\n",
       "│ ┡━━━━━━━━━━━━━━━━━━━━━╇━━━━━━━━╇━━━━━━━━━╇━━━━━━━━━╇━━━━━━━━━╇━━━━━━╇━━━━━━━━╇━━━━━━━━╇━━━━━━━━━━╇━━━━━━━━━━━┩  │\n",
       "│ │ <span style=\"color: #af87ff; text-decoration-color: #af87ff\">Age                </span> │ <span style=\"color: #008080; text-decoration-color: #008080\">   179</span> │ <span style=\"color: #008080; text-decoration-color: #008080\">   2.06</span> │ <span style=\"color: #008080; text-decoration-color: #008080\">     29</span> │ <span style=\"color: #008080; text-decoration-color: #008080\">     14</span> │ <span style=\"color: #008080; text-decoration-color: #008080\">   0</span> │ <span style=\"color: #008080; text-decoration-color: #008080\">    19</span> │ <span style=\"color: #008080; text-decoration-color: #008080\">    38</span> │ <span style=\"color: #008080; text-decoration-color: #008080\">      79</span> │ <span style=\"color: #008000; text-decoration-color: #008000\">  ▂█▆▃▁  </span> │  │\n",
       "│ │ <span style=\"color: #af87ff; text-decoration-color: #af87ff\">RoomService        </span> │ <span style=\"color: #008080; text-decoration-color: #008080\">   181</span> │ <span style=\"color: #008080; text-decoration-color: #008080\">   2.08</span> │ <span style=\"color: #008080; text-decoration-color: #008080\">    220</span> │ <span style=\"color: #008080; text-decoration-color: #008080\">    670</span> │ <span style=\"color: #008080; text-decoration-color: #008080\">   0</span> │ <span style=\"color: #008080; text-decoration-color: #008080\">     0</span> │ <span style=\"color: #008080; text-decoration-color: #008080\">    47</span> │ <span style=\"color: #008080; text-decoration-color: #008080\">   14000</span> │ <span style=\"color: #008000; text-decoration-color: #008000\">    █    </span> │  │\n",
       "│ │ <span style=\"color: #af87ff; text-decoration-color: #af87ff\">FoodCourt          </span> │ <span style=\"color: #008080; text-decoration-color: #008080\">   183</span> │ <span style=\"color: #008080; text-decoration-color: #008080\">   2.11</span> │ <span style=\"color: #008080; text-decoration-color: #008080\">    460</span> │ <span style=\"color: #008080; text-decoration-color: #008080\">   1600</span> │ <span style=\"color: #008080; text-decoration-color: #008080\">   0</span> │ <span style=\"color: #008080; text-decoration-color: #008080\">     0</span> │ <span style=\"color: #008080; text-decoration-color: #008080\">    76</span> │ <span style=\"color: #008080; text-decoration-color: #008080\">   30000</span> │ <span style=\"color: #008000; text-decoration-color: #008000\">    █    </span> │  │\n",
       "│ │ <span style=\"color: #af87ff; text-decoration-color: #af87ff\">ShoppingMall       </span> │ <span style=\"color: #008080; text-decoration-color: #008080\">   208</span> │ <span style=\"color: #008080; text-decoration-color: #008080\">   2.39</span> │ <span style=\"color: #008080; text-decoration-color: #008080\">    170</span> │ <span style=\"color: #008080; text-decoration-color: #008080\">    600</span> │ <span style=\"color: #008080; text-decoration-color: #008080\">   0</span> │ <span style=\"color: #008080; text-decoration-color: #008080\">     0</span> │ <span style=\"color: #008080; text-decoration-color: #008080\">    27</span> │ <span style=\"color: #008080; text-decoration-color: #008080\">   23000</span> │ <span style=\"color: #008000; text-decoration-color: #008000\">    █    </span> │  │\n",
       "│ │ <span style=\"color: #af87ff; text-decoration-color: #af87ff\">Spa                </span> │ <span style=\"color: #008080; text-decoration-color: #008080\">   183</span> │ <span style=\"color: #008080; text-decoration-color: #008080\">   2.11</span> │ <span style=\"color: #008080; text-decoration-color: #008080\">    310</span> │ <span style=\"color: #008080; text-decoration-color: #008080\">   1100</span> │ <span style=\"color: #008080; text-decoration-color: #008080\">   0</span> │ <span style=\"color: #008080; text-decoration-color: #008080\">     0</span> │ <span style=\"color: #008080; text-decoration-color: #008080\">    59</span> │ <span style=\"color: #008080; text-decoration-color: #008080\">   22000</span> │ <span style=\"color: #008000; text-decoration-color: #008000\">    █    </span> │  │\n",
       "│ │ <span style=\"color: #af87ff; text-decoration-color: #af87ff\">VRDeck             </span> │ <span style=\"color: #008080; text-decoration-color: #008080\">   188</span> │ <span style=\"color: #008080; text-decoration-color: #008080\">   2.16</span> │ <span style=\"color: #008080; text-decoration-color: #008080\">    300</span> │ <span style=\"color: #008080; text-decoration-color: #008080\">   1100</span> │ <span style=\"color: #008080; text-decoration-color: #008080\">   0</span> │ <span style=\"color: #008080; text-decoration-color: #008080\">     0</span> │ <span style=\"color: #008080; text-decoration-color: #008080\">    46</span> │ <span style=\"color: #008080; text-decoration-color: #008080\">   24000</span> │ <span style=\"color: #008000; text-decoration-color: #008000\">    █    </span> │  │\n",
       "│ └─────────────────────┴────────┴─────────┴─────────┴─────────┴──────┴────────┴────────┴──────────┴───────────┘  │\n",
       "│ <span style=\"font-style: italic\">                                                    string                                                    </span>  │\n",
       "│ ┏━━━━━━━━━━━━━━━━━━━━━━━━━━┳━━━━━━━━━━┳━━━━━━━━━━━━┳━━━━━━━━━━━━━━━━━━━━━━━━━━━━━━┳━━━━━━━━━━━━━━━━━━━━━━━━━━┓  │\n",
       "│ ┃<span style=\"font-weight: bold\"> column_name              </span>┃<span style=\"font-weight: bold\"> NA       </span>┃<span style=\"font-weight: bold\"> NA %       </span>┃<span style=\"font-weight: bold\"> words per row                </span>┃<span style=\"font-weight: bold\"> total words              </span>┃  │\n",
       "│ ┡━━━━━━━━━━━━━━━━━━━━━━━━━━╇━━━━━━━━━━╇━━━━━━━━━━━━╇━━━━━━━━━━━━━━━━━━━━━━━━━━━━━━╇━━━━━━━━━━━━━━━━━━━━━━━━━━┩  │\n",
       "│ │ <span style=\"color: #af87ff; text-decoration-color: #af87ff\">PassengerId             </span> │ <span style=\"color: #008080; text-decoration-color: #008080\">       0</span> │ <span style=\"color: #008080; text-decoration-color: #008080\">         0</span> │ <span style=\"color: #008080; text-decoration-color: #008080\">                           1</span> │ <span style=\"color: #008080; text-decoration-color: #008080\">                    8693</span> │  │\n",
       "│ │ <span style=\"color: #af87ff; text-decoration-color: #af87ff\">HomePlanet              </span> │ <span style=\"color: #008080; text-decoration-color: #008080\">     201</span> │ <span style=\"color: #008080; text-decoration-color: #008080\">      2.31</span> │ <span style=\"color: #008080; text-decoration-color: #008080\">                           1</span> │ <span style=\"color: #008080; text-decoration-color: #008080\">                    8693</span> │  │\n",
       "│ │ <span style=\"color: #af87ff; text-decoration-color: #af87ff\">Cabin                   </span> │ <span style=\"color: #008080; text-decoration-color: #008080\">     199</span> │ <span style=\"color: #008080; text-decoration-color: #008080\">      2.29</span> │ <span style=\"color: #008080; text-decoration-color: #008080\">                           1</span> │ <span style=\"color: #008080; text-decoration-color: #008080\">                    8693</span> │  │\n",
       "│ │ <span style=\"color: #af87ff; text-decoration-color: #af87ff\">Destination             </span> │ <span style=\"color: #008080; text-decoration-color: #008080\">     182</span> │ <span style=\"color: #008080; text-decoration-color: #008080\">      2.09</span> │ <span style=\"color: #008080; text-decoration-color: #008080\">                           1</span> │ <span style=\"color: #008080; text-decoration-color: #008080\">                    8693</span> │  │\n",
       "│ │ <span style=\"color: #af87ff; text-decoration-color: #af87ff\">Name                    </span> │ <span style=\"color: #008080; text-decoration-color: #008080\">     200</span> │ <span style=\"color: #008080; text-decoration-color: #008080\">       2.3</span> │ <span style=\"color: #008080; text-decoration-color: #008080\">                           1</span> │ <span style=\"color: #008080; text-decoration-color: #008080\">                    8693</span> │  │\n",
       "│ └──────────────────────────┴──────────┴────────────┴──────────────────────────────┴──────────────────────────┘  │\n",
       "│ <span style=\"font-style: italic\">                                                     bool                                                     </span>  │\n",
       "│ ┏━━━━━━━━━━━━━━━━━━━━━━━━━━━━━━━━━━━━┳━━━━━━━━━━━━━━━━━┳━━━━━━━━━━━━━━━━━━━━━━━━━━━━━━━┳━━━━━━━━━━━━━━━━━━━━━┓  │\n",
       "│ ┃<span style=\"font-weight: bold\"> column_name                        </span>┃<span style=\"font-weight: bold\"> true            </span>┃<span style=\"font-weight: bold\"> true rate                     </span>┃<span style=\"font-weight: bold\"> hist                </span>┃  │\n",
       "│ ┡━━━━━━━━━━━━━━━━━━━━━━━━━━━━━━━━━━━━╇━━━━━━━━━━━━━━━━━╇━━━━━━━━━━━━━━━━━━━━━━━━━━━━━━━╇━━━━━━━━━━━━━━━━━━━━━┩  │\n",
       "│ │ <span style=\"color: #af87ff; text-decoration-color: #af87ff\">CryoSleep                         </span> │ <span style=\"color: #008080; text-decoration-color: #008080\">           3254</span> │ <span style=\"color: #008080; text-decoration-color: #008080\">                         0.37</span> │ <span style=\"color: #008000; text-decoration-color: #008000\">      █    ▅       </span> │  │\n",
       "│ │ <span style=\"color: #af87ff; text-decoration-color: #af87ff\">VIP                               </span> │ <span style=\"color: #008080; text-decoration-color: #008080\">            402</span> │ <span style=\"color: #008080; text-decoration-color: #008080\">                        0.046</span> │ <span style=\"color: #008000; text-decoration-color: #008000\">         █         </span> │  │\n",
       "│ │ <span style=\"color: #af87ff; text-decoration-color: #af87ff\">Transported                       </span> │ <span style=\"color: #008080; text-decoration-color: #008080\">           4378</span> │ <span style=\"color: #008080; text-decoration-color: #008080\">                          0.5</span> │ <span style=\"color: #008000; text-decoration-color: #008000\">      █    █       </span> │  │\n",
       "│ └────────────────────────────────────┴─────────────────┴───────────────────────────────┴─────────────────────┘  │\n",
       "╰────────────────────────────────────────────────────── End ──────────────────────────────────────────────────────╯\n",
       "</pre>\n"
      ],
      "text/plain": [
       "╭──────────────────────────────────────────────── skimpy summary ─────────────────────────────────────────────────╮\n",
       "│ \u001b[3m         Data Summary         \u001b[0m \u001b[3m      Data Types       \u001b[0m                                                          │\n",
       "│ ┏━━━━━━━━━━━━━━━━━━━┳━━━━━━━━┓ ┏━━━━━━━━━━━━━┳━━━━━━━┓                                                          │\n",
       "│ ┃\u001b[1;36m \u001b[0m\u001b[1;36mdataframe        \u001b[0m\u001b[1;36m \u001b[0m┃\u001b[1;36m \u001b[0m\u001b[1;36mValues\u001b[0m\u001b[1;36m \u001b[0m┃ ┃\u001b[1;36m \u001b[0m\u001b[1;36mColumn Type\u001b[0m\u001b[1;36m \u001b[0m┃\u001b[1;36m \u001b[0m\u001b[1;36mCount\u001b[0m\u001b[1;36m \u001b[0m┃                                                          │\n",
       "│ ┡━━━━━━━━━━━━━━━━━━━╇━━━━━━━━┩ ┡━━━━━━━━━━━━━╇━━━━━━━┩                                                          │\n",
       "│ │ Number of rows    │ 8693   │ │ float64     │ 6     │                                                          │\n",
       "│ │ Number of columns │ 14     │ │ string      │ 5     │                                                          │\n",
       "│ └───────────────────┴────────┘ │ bool        │ 3     │                                                          │\n",
       "│                                └─────────────┴───────┘                                                          │\n",
       "│ \u001b[3m                                                    number                                                    \u001b[0m  │\n",
       "│ ┏━━━━━━━━━━━━━━━━━━━━━┳━━━━━━━━┳━━━━━━━━━┳━━━━━━━━━┳━━━━━━━━━┳━━━━━━┳━━━━━━━━┳━━━━━━━━┳━━━━━━━━━━┳━━━━━━━━━━━┓  │\n",
       "│ ┃\u001b[1m \u001b[0m\u001b[1mcolumn_name        \u001b[0m\u001b[1m \u001b[0m┃\u001b[1m \u001b[0m\u001b[1mNA    \u001b[0m\u001b[1m \u001b[0m┃\u001b[1m \u001b[0m\u001b[1mNA %   \u001b[0m\u001b[1m \u001b[0m┃\u001b[1m \u001b[0m\u001b[1mmean   \u001b[0m\u001b[1m \u001b[0m┃\u001b[1m \u001b[0m\u001b[1msd     \u001b[0m\u001b[1m \u001b[0m┃\u001b[1m \u001b[0m\u001b[1mp0  \u001b[0m\u001b[1m \u001b[0m┃\u001b[1m \u001b[0m\u001b[1mp25   \u001b[0m\u001b[1m \u001b[0m┃\u001b[1m \u001b[0m\u001b[1mp75   \u001b[0m\u001b[1m \u001b[0m┃\u001b[1m \u001b[0m\u001b[1mp100    \u001b[0m\u001b[1m \u001b[0m┃\u001b[1m \u001b[0m\u001b[1mhist     \u001b[0m\u001b[1m \u001b[0m┃  │\n",
       "│ ┡━━━━━━━━━━━━━━━━━━━━━╇━━━━━━━━╇━━━━━━━━━╇━━━━━━━━━╇━━━━━━━━━╇━━━━━━╇━━━━━━━━╇━━━━━━━━╇━━━━━━━━━━╇━━━━━━━━━━━┩  │\n",
       "│ │ \u001b[38;5;141mAge                \u001b[0m │ \u001b[36m   179\u001b[0m │ \u001b[36m   2.06\u001b[0m │ \u001b[36m     29\u001b[0m │ \u001b[36m     14\u001b[0m │ \u001b[36m   0\u001b[0m │ \u001b[36m    19\u001b[0m │ \u001b[36m    38\u001b[0m │ \u001b[36m      79\u001b[0m │ \u001b[32m  ▂█▆▃▁  \u001b[0m │  │\n",
       "│ │ \u001b[38;5;141mRoomService        \u001b[0m │ \u001b[36m   181\u001b[0m │ \u001b[36m   2.08\u001b[0m │ \u001b[36m    220\u001b[0m │ \u001b[36m    670\u001b[0m │ \u001b[36m   0\u001b[0m │ \u001b[36m     0\u001b[0m │ \u001b[36m    47\u001b[0m │ \u001b[36m   14000\u001b[0m │ \u001b[32m    █    \u001b[0m │  │\n",
       "│ │ \u001b[38;5;141mFoodCourt          \u001b[0m │ \u001b[36m   183\u001b[0m │ \u001b[36m   2.11\u001b[0m │ \u001b[36m    460\u001b[0m │ \u001b[36m   1600\u001b[0m │ \u001b[36m   0\u001b[0m │ \u001b[36m     0\u001b[0m │ \u001b[36m    76\u001b[0m │ \u001b[36m   30000\u001b[0m │ \u001b[32m    █    \u001b[0m │  │\n",
       "│ │ \u001b[38;5;141mShoppingMall       \u001b[0m │ \u001b[36m   208\u001b[0m │ \u001b[36m   2.39\u001b[0m │ \u001b[36m    170\u001b[0m │ \u001b[36m    600\u001b[0m │ \u001b[36m   0\u001b[0m │ \u001b[36m     0\u001b[0m │ \u001b[36m    27\u001b[0m │ \u001b[36m   23000\u001b[0m │ \u001b[32m    █    \u001b[0m │  │\n",
       "│ │ \u001b[38;5;141mSpa                \u001b[0m │ \u001b[36m   183\u001b[0m │ \u001b[36m   2.11\u001b[0m │ \u001b[36m    310\u001b[0m │ \u001b[36m   1100\u001b[0m │ \u001b[36m   0\u001b[0m │ \u001b[36m     0\u001b[0m │ \u001b[36m    59\u001b[0m │ \u001b[36m   22000\u001b[0m │ \u001b[32m    █    \u001b[0m │  │\n",
       "│ │ \u001b[38;5;141mVRDeck             \u001b[0m │ \u001b[36m   188\u001b[0m │ \u001b[36m   2.16\u001b[0m │ \u001b[36m    300\u001b[0m │ \u001b[36m   1100\u001b[0m │ \u001b[36m   0\u001b[0m │ \u001b[36m     0\u001b[0m │ \u001b[36m    46\u001b[0m │ \u001b[36m   24000\u001b[0m │ \u001b[32m    █    \u001b[0m │  │\n",
       "│ └─────────────────────┴────────┴─────────┴─────────┴─────────┴──────┴────────┴────────┴──────────┴───────────┘  │\n",
       "│ \u001b[3m                                                    string                                                    \u001b[0m  │\n",
       "│ ┏━━━━━━━━━━━━━━━━━━━━━━━━━━┳━━━━━━━━━━┳━━━━━━━━━━━━┳━━━━━━━━━━━━━━━━━━━━━━━━━━━━━━┳━━━━━━━━━━━━━━━━━━━━━━━━━━┓  │\n",
       "│ ┃\u001b[1m \u001b[0m\u001b[1mcolumn_name             \u001b[0m\u001b[1m \u001b[0m┃\u001b[1m \u001b[0m\u001b[1mNA      \u001b[0m\u001b[1m \u001b[0m┃\u001b[1m \u001b[0m\u001b[1mNA %      \u001b[0m\u001b[1m \u001b[0m┃\u001b[1m \u001b[0m\u001b[1mwords per row               \u001b[0m\u001b[1m \u001b[0m┃\u001b[1m \u001b[0m\u001b[1mtotal words             \u001b[0m\u001b[1m \u001b[0m┃  │\n",
       "│ ┡━━━━━━━━━━━━━━━━━━━━━━━━━━╇━━━━━━━━━━╇━━━━━━━━━━━━╇━━━━━━━━━━━━━━━━━━━━━━━━━━━━━━╇━━━━━━━━━━━━━━━━━━━━━━━━━━┩  │\n",
       "│ │ \u001b[38;5;141mPassengerId             \u001b[0m │ \u001b[36m       0\u001b[0m │ \u001b[36m         0\u001b[0m │ \u001b[36m                           1\u001b[0m │ \u001b[36m                    8693\u001b[0m │  │\n",
       "│ │ \u001b[38;5;141mHomePlanet              \u001b[0m │ \u001b[36m     201\u001b[0m │ \u001b[36m      2.31\u001b[0m │ \u001b[36m                           1\u001b[0m │ \u001b[36m                    8693\u001b[0m │  │\n",
       "│ │ \u001b[38;5;141mCabin                   \u001b[0m │ \u001b[36m     199\u001b[0m │ \u001b[36m      2.29\u001b[0m │ \u001b[36m                           1\u001b[0m │ \u001b[36m                    8693\u001b[0m │  │\n",
       "│ │ \u001b[38;5;141mDestination             \u001b[0m │ \u001b[36m     182\u001b[0m │ \u001b[36m      2.09\u001b[0m │ \u001b[36m                           1\u001b[0m │ \u001b[36m                    8693\u001b[0m │  │\n",
       "│ │ \u001b[38;5;141mName                    \u001b[0m │ \u001b[36m     200\u001b[0m │ \u001b[36m       2.3\u001b[0m │ \u001b[36m                           1\u001b[0m │ \u001b[36m                    8693\u001b[0m │  │\n",
       "│ └──────────────────────────┴──────────┴────────────┴──────────────────────────────┴──────────────────────────┘  │\n",
       "│ \u001b[3m                                                     bool                                                     \u001b[0m  │\n",
       "│ ┏━━━━━━━━━━━━━━━━━━━━━━━━━━━━━━━━━━━━┳━━━━━━━━━━━━━━━━━┳━━━━━━━━━━━━━━━━━━━━━━━━━━━━━━━┳━━━━━━━━━━━━━━━━━━━━━┓  │\n",
       "│ ┃\u001b[1m \u001b[0m\u001b[1mcolumn_name                       \u001b[0m\u001b[1m \u001b[0m┃\u001b[1m \u001b[0m\u001b[1mtrue           \u001b[0m\u001b[1m \u001b[0m┃\u001b[1m \u001b[0m\u001b[1mtrue rate                    \u001b[0m\u001b[1m \u001b[0m┃\u001b[1m \u001b[0m\u001b[1mhist               \u001b[0m\u001b[1m \u001b[0m┃  │\n",
       "│ ┡━━━━━━━━━━━━━━━━━━━━━━━━━━━━━━━━━━━━╇━━━━━━━━━━━━━━━━━╇━━━━━━━━━━━━━━━━━━━━━━━━━━━━━━━╇━━━━━━━━━━━━━━━━━━━━━┩  │\n",
       "│ │ \u001b[38;5;141mCryoSleep                         \u001b[0m │ \u001b[36m           3254\u001b[0m │ \u001b[36m                         0.37\u001b[0m │ \u001b[32m      █    ▅       \u001b[0m │  │\n",
       "│ │ \u001b[38;5;141mVIP                               \u001b[0m │ \u001b[36m            402\u001b[0m │ \u001b[36m                        0.046\u001b[0m │ \u001b[32m         █         \u001b[0m │  │\n",
       "│ │ \u001b[38;5;141mTransported                       \u001b[0m │ \u001b[36m           4378\u001b[0m │ \u001b[36m                          0.5\u001b[0m │ \u001b[32m      █    █       \u001b[0m │  │\n",
       "│ └────────────────────────────────────┴─────────────────┴───────────────────────────────┴─────────────────────┘  │\n",
       "╰────────────────────────────────────────────────────── End ──────────────────────────────────────────────────────╯\n"
      ]
     },
     "metadata": {},
     "output_type": "display_data"
    }
   ],
   "source": [
    "import pandas as pd\n",
    "import numpy as np\n",
    "train = pd.read_csv('train.csv')\n",
    "test = pd.read_csv('test.csv')\n",
    "from skimpy import skim\n",
    "skim(train)"
   ]
  },
  {
   "cell_type": "markdown",
   "metadata": {},
   "source": [
    "## Extracting `Amount` spent for each passenger"
   ]
  },
  {
   "cell_type": "code",
   "execution_count": 2,
   "metadata": {},
   "outputs": [],
   "source": [
    "train['Amount_Spent']=train['RoomService']+train['FoodCourt']+train['ShoppingMall']+train['Spa']+train['VRDeck']\n",
    "test['Amount_Spent']=test['RoomService']+test['FoodCourt']+test['ShoppingMall']+test['Spa']+test['VRDeck']\n",
    "\n",
    "pass_id_test=test['PassengerId'].values\n",
    "\n",
    "train.drop(columns=['Name','PassengerId','RoomService', 'FoodCourt', 'ShoppingMall', 'Spa', 'VRDeck'],inplace=True)\n",
    "test.drop(columns=['Name','PassengerId','RoomService', 'FoodCourt', 'ShoppingMall', 'Spa', 'VRDeck'],inplace=True)"
   ]
  },
  {
   "cell_type": "markdown",
   "metadata": {},
   "source": [
    "## Before NaFill the data had following Attributes"
   ]
  },
  {
   "cell_type": "code",
   "execution_count": 3,
   "metadata": {},
   "outputs": [
    {
     "data": {
      "text/plain": [
       "Index(['HomePlanet', 'CryoSleep', 'Cabin', 'Destination', 'Age', 'VIP',\n",
       "       'Transported', 'Amount_Spent'],\n",
       "      dtype='object')"
      ]
     },
     "execution_count": 3,
     "metadata": {},
     "output_type": "execute_result"
    }
   ],
   "source": [
    "train.columns"
   ]
  },
  {
   "cell_type": "code",
   "execution_count": 4,
   "metadata": {},
   "outputs": [
    {
     "name": "stdout",
     "output_type": "stream",
     "text": [
      "0    Earth\n",
      "Name: HomePlanet, dtype: object\n",
      "0    False\n",
      "Name: CryoSleep, dtype: object\n",
      "0    G/160/P\n",
      "Name: Cabin, dtype: object\n",
      "0    TRAPPIST-1e\n",
      "Name: Destination, dtype: object\n",
      "28.65814620162446\n",
      "0    False\n",
      "Name: VIP, dtype: object\n",
      "1441.7119309262166\n"
     ]
    }
   ],
   "source": [
    "print(test['HomePlanet'].mode())\n",
    "print(test['CryoSleep'].mode())\n",
    "print(test['Cabin'].mode())\n",
    "print(test['Destination'].mode())\n",
    "print(test['Age'].mean())\n",
    "print(test['VIP'].mode())\n",
    "print(test['Amount_Spent'].mean())"
   ]
  },
  {
   "cell_type": "code",
   "execution_count": 5,
   "metadata": {},
   "outputs": [],
   "source": [
    "def extract_last_word(text):\n",
    "    if isinstance(text, str):\n",
    "        return text.split('/')[-1]\n",
    "    else:\n",
    "        return None\n",
    "\n",
    "# Apply function to 'cabin' column\n",
    "train['Cabin'] = train['Cabin'].apply(extract_last_word)\n",
    "test['Cabin'] = test['Cabin'].apply(extract_last_word)"
   ]
  },
  {
   "cell_type": "markdown",
   "metadata": {},
   "source": [
    "## Mapping the `destination` column"
   ]
  },
  {
   "cell_type": "markdown",
   "metadata": {},
   "source": [
    "The destination is transformed as  \n",
    "TR      ->    TRAPPIST-1e      5915  \n",
    "CAN     ->    55 Cancri e      1800  \n",
    "PSO     ->    PSO J318.5-22     796"
   ]
  },
  {
   "cell_type": "code",
   "execution_count": 6,
   "metadata": {},
   "outputs": [],
   "source": [
    "mapping = {\n",
    "    \"TRAPPIST-1e\": \"TRA\",\n",
    "    \"55 Cancri e\": \"CAN\",\n",
    "    \"PSO J318.5-22\": \"PSO\"\n",
    "}\n",
    "\n",
    "# Apply the mapping\n",
    "train['Destination'] = train['Destination'].map(mapping)\n",
    "test['Destination'] = test['Destination'].map(mapping)"
   ]
  },
  {
   "cell_type": "code",
   "execution_count": 7,
   "metadata": {},
   "outputs": [
    {
     "data": {
      "text/plain": [
       "CryoSleep\n",
       "False    5439\n",
       "True     3037\n",
       "Name: count, dtype: int64"
      ]
     },
     "execution_count": 7,
     "metadata": {},
     "output_type": "execute_result"
    }
   ],
   "source": [
    "train['CryoSleep'].value_counts()"
   ]
  },
  {
   "cell_type": "markdown",
   "metadata": {},
   "source": [
    "## Imputing `HomePlanet`"
   ]
  },
  {
   "cell_type": "code",
   "execution_count": 8,
   "metadata": {},
   "outputs": [],
   "source": [
    "train['HomePlanet']=train['HomePlanet'].fillna('Earth')\n",
    "test['HomePlanet']=test['HomePlanet'].fillna('Earth')"
   ]
  },
  {
   "cell_type": "markdown",
   "metadata": {},
   "source": [
    "## Imputing `CryoSleep`"
   ]
  },
  {
   "cell_type": "code",
   "execution_count": 9,
   "metadata": {},
   "outputs": [
    {
     "name": "stderr",
     "output_type": "stream",
     "text": [
      "C:\\Users\\Shahbaz\\AppData\\Local\\Temp\\ipykernel_6040\\828326855.py:1: FutureWarning: Downcasting object dtype arrays on .fillna, .ffill, .bfill is deprecated and will change in a future version. Call result.infer_objects(copy=False) instead. To opt-in to the future behavior, set `pd.set_option('future.no_silent_downcasting', True)`\n",
      "  train['CryoSleep']=train['CryoSleep'].fillna(False)\n",
      "C:\\Users\\Shahbaz\\AppData\\Local\\Temp\\ipykernel_6040\\828326855.py:2: FutureWarning: Downcasting object dtype arrays on .fillna, .ffill, .bfill is deprecated and will change in a future version. Call result.infer_objects(copy=False) instead. To opt-in to the future behavior, set `pd.set_option('future.no_silent_downcasting', True)`\n",
      "  test['CryoSleep']=test['CryoSleep'].fillna(False)\n"
     ]
    }
   ],
   "source": [
    "train['CryoSleep']=train['CryoSleep'].fillna(False)\n",
    "test['CryoSleep']=test['CryoSleep'].fillna(False)"
   ]
  },
  {
   "cell_type": "markdown",
   "metadata": {},
   "source": [
    "## Imputing `Cabin`"
   ]
  },
  {
   "cell_type": "code",
   "execution_count": 10,
   "metadata": {},
   "outputs": [],
   "source": [
    "train['Cabin']=train['Cabin'].fillna('P')\n",
    "test['Cabin']=test['Cabin'].fillna('P')"
   ]
  },
  {
   "cell_type": "markdown",
   "metadata": {},
   "source": [
    "## Imputing `Destination`"
   ]
  },
  {
   "cell_type": "code",
   "execution_count": 11,
   "metadata": {},
   "outputs": [],
   "source": [
    "train['Destination']=train['Destination'].fillna('TRA')\n",
    "test['Destination']=test['Destination'].fillna('TRA')"
   ]
  },
  {
   "cell_type": "markdown",
   "metadata": {},
   "source": [
    "## Filling `Amount_Spent` Na Values"
   ]
  },
  {
   "cell_type": "code",
   "execution_count": 12,
   "metadata": {},
   "outputs": [],
   "source": [
    "condition = (train['HomePlanet'] == 'Earth') & (train['Amount_Spent'].isna())\n",
    "train.loc[condition, 'Amount_Spent'] = 708\n",
    "condition = (train['HomePlanet'] == 'Europa') & (train['Amount_Spent'].isna())\n",
    "train.loc[condition, 'Amount_Spent'] = 3552\n",
    "condition = (train['HomePlanet'] == 'Mars') & (train['Amount_Spent'].isna())\n",
    "train.loc[condition, 'Amount_Spent'] = 1074\n",
    "\n",
    "condition = (test['HomePlanet'] == 'Earth') & (test['Amount_Spent'].isna())\n",
    "test.loc[condition, 'Amount_Spent'] = 708\n",
    "condition = (test['HomePlanet'] == 'Europa') & (test['Amount_Spent'].isna())\n",
    "test.loc[condition, 'Amount_Spent'] = 3552\n",
    "condition = (test['HomePlanet'] == 'Mars') & (test['Amount_Spent'].isna())\n",
    "test.loc[condition, 'Amount_Spent'] = 1074"
   ]
  },
  {
   "cell_type": "markdown",
   "metadata": {},
   "source": [
    "## Imputing `VIP`"
   ]
  },
  {
   "cell_type": "code",
   "execution_count": 13,
   "metadata": {},
   "outputs": [
    {
     "name": "stderr",
     "output_type": "stream",
     "text": [
      "C:\\Users\\Shahbaz\\AppData\\Local\\Temp\\ipykernel_6040\\2149934814.py:2: FutureWarning: Downcasting object dtype arrays on .fillna, .ffill, .bfill is deprecated and will change in a future version. Call result.infer_objects(copy=False) instead. To opt-in to the future behavior, set `pd.set_option('future.no_silent_downcasting', True)`\n",
      "  train['VIP']=train['VIP'].fillna(random.choice([True,False]))\n",
      "C:\\Users\\Shahbaz\\AppData\\Local\\Temp\\ipykernel_6040\\2149934814.py:3: FutureWarning: Downcasting object dtype arrays on .fillna, .ffill, .bfill is deprecated and will change in a future version. Call result.infer_objects(copy=False) instead. To opt-in to the future behavior, set `pd.set_option('future.no_silent_downcasting', True)`\n",
      "  test['VIP']=test['VIP'].fillna(random.choice([True,False]))\n"
     ]
    }
   ],
   "source": [
    "import random\n",
    "train['VIP']=train['VIP'].fillna(random.choice([True,False]))\n",
    "test['VIP']=test['VIP'].fillna(random.choice([True,False]))"
   ]
  },
  {
   "cell_type": "markdown",
   "metadata": {},
   "source": [
    "## Age Imputation|"
   ]
  },
  {
   "cell_type": "markdown",
   "metadata": {},
   "source": [
    "Passengers travelling from `Earth` to `TRA` have mean age of `26`  \n",
    "Passengers travelling from `Earth` to `CAN` have mean age of `23`  \n",
    "Passengers travelling from `Earth` to `PSO` have mean age of `26`  \n",
    "\n",
    "\n",
    "Passengers travelling from `Europa` to `TRA` have mean age of `34`  \n",
    "Passengers travelling from `Europa` to `CAN` have mean age of `34`  \n",
    "Passengers travelling from `Europa` to `PSO` have mean age of `36`\n",
    "\n",
    "\n",
    "Passengers travelling from `Mars` to `TRA` have mean age of `29`  \n",
    "Passengers travelling from `Mars` to `CAN` have mean age of `27`  \n",
    "Passengers travelling from `Mars` to `PSO` have mean age of `36`"
   ]
  },
  {
   "cell_type": "code",
   "execution_count": 14,
   "metadata": {},
   "outputs": [],
   "source": [
    "condition = (train['HomePlanet'] == 'Earth') & (train['Destination'] == 'TRA') & (train['Age'].isna())\n",
    "train.loc[condition, 'Age'] = 26\n",
    "condition = (train['HomePlanet'] == 'Earth') & (train['Destination'] == 'CAN') & (train['Age'].isna())\n",
    "train.loc[condition, 'Age'] = 23\n",
    "condition = (train['HomePlanet'] == 'Earth') & (train['Destination'] == 'PSO') & (train['Age'].isna())\n",
    "train.loc[condition, 'Age'] = 26\n",
    "\n",
    "condition = (train['HomePlanet'] == 'Mars') & (train['Destination'] == 'TRA') & (train['Age'].isna())\n",
    "train.loc[condition, 'Age'] = 34\n",
    "condition = (train['HomePlanet'] == 'Mars') & (train['Destination'] == 'CAN') & (train['Age'].isna())\n",
    "train.loc[condition, 'Age'] = 34\n",
    "condition = (train['HomePlanet'] == 'Mars') & (train['Destination'] == 'PSO') & (train['Age'].isna())\n",
    "train.loc[condition, 'Age'] = 36\n",
    "\n",
    "condition = (train['HomePlanet'] == 'Europa') & (train['Destination'] == 'TRA') & (train['Age'].isna())\n",
    "train.loc[condition, 'Age'] = 29\n",
    "condition = (train['HomePlanet'] == 'Europa') & (train['Destination'] == 'CAN') & (train['Age'].isna())\n",
    "train.loc[condition, 'Age'] = 27\n",
    "condition = (train['HomePlanet'] == 'Europa') & (train['Destination'] == 'PSO') & (train['Age'].isna())\n",
    "train.loc[condition, 'Age'] = 36"
   ]
  },
  {
   "cell_type": "code",
   "execution_count": 15,
   "metadata": {},
   "outputs": [],
   "source": [
    "condition = (test['HomePlanet'] == 'Earth') & (test['Destination'] == 'TRA') & (test['Age'].isna())\n",
    "test.loc[condition, 'Age'] = 26\n",
    "condition = (test['HomePlanet'] == 'Earth') & (test['Destination'] == 'CAN') & (test['Age'].isna())\n",
    "test.loc[condition, 'Age'] = 23\n",
    "condition = (test['HomePlanet'] == 'Earth') & (test['Destination'] == 'PSO') & (test['Age'].isna())\n",
    "test.loc[condition, 'Age'] = 26\n",
    "\n",
    "condition = (test['HomePlanet'] == 'Mars') & (test['Destination'] == 'TRA') & (test['Age'].isna())\n",
    "test.loc[condition, 'Age'] = 34\n",
    "condition = (test['HomePlanet'] == 'Mars') & (test['Destination'] == 'CAN') & (test['Age'].isna())\n",
    "test.loc[condition, 'Age'] = 34\n",
    "condition = (test['HomePlanet'] == 'Mars') & (test['Destination'] == 'PSO') & (test['Age'].isna())\n",
    "test.loc[condition, 'Age'] = 36\n",
    "\n",
    "condition = (test['HomePlanet'] == 'Europa') & (test['Destination'] == 'TRA') & (test['Age'].isna())\n",
    "test.loc[condition, 'Age'] = 29\n",
    "condition = (test['HomePlanet'] == 'Europa') & (test['Destination'] == 'CAN') & (test['Age'].isna())\n",
    "test.loc[condition, 'Age'] = 27\n",
    "condition = (test['HomePlanet'] == 'Europa') & (test['Destination'] == 'PSO') & (test['Age'].isna())\n",
    "test.loc[condition, 'Age'] = 36"
   ]
  },
  {
   "cell_type": "markdown",
   "metadata": {},
   "source": [
    "## The data before and after imputation are somewhat the same"
   ]
  },
  {
   "cell_type": "markdown",
   "metadata": {},
   "source": [
    "## All Values `Imputed SuccessFully`"
   ]
  },
  {
   "cell_type": "code",
   "execution_count": 16,
   "metadata": {},
   "outputs": [
    {
     "data": {
      "text/plain": [
       "HomePlanet      0\n",
       "CryoSleep       0\n",
       "Cabin           0\n",
       "Destination     0\n",
       "Age             0\n",
       "VIP             0\n",
       "Amount_Spent    0\n",
       "dtype: int64"
      ]
     },
     "execution_count": 16,
     "metadata": {},
     "output_type": "execute_result"
    }
   ],
   "source": [
    "test.isnull().sum()"
   ]
  },
  {
   "cell_type": "code",
   "execution_count": 17,
   "metadata": {},
   "outputs": [],
   "source": [
    "train.to_csv('train_imputed.csv',index=False)\n",
    "test.to_csv('test_imputed.csv',index=False)"
   ]
  },
  {
   "cell_type": "markdown",
   "metadata": {},
   "source": [
    "## Move to `predictions.ipynb` for prediction Part"
   ]
  },
  {
   "cell_type": "code",
   "execution_count": null,
   "metadata": {},
   "outputs": [],
   "source": []
  }
 ],
 "metadata": {
  "kernelspec": {
   "display_name": "Python 3",
   "language": "python",
   "name": "python3"
  },
  "language_info": {
   "codemirror_mode": {
    "name": "ipython",
    "version": 3
   },
   "file_extension": ".py",
   "mimetype": "text/x-python",
   "name": "python",
   "nbconvert_exporter": "python",
   "pygments_lexer": "ipython3",
   "version": "3.12.2"
  }
 },
 "nbformat": 4,
 "nbformat_minor": 2
}
